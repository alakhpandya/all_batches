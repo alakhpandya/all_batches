{
 "cells": [
  {
   "cell_type": "markdown",
   "id": "3e62f82a",
   "metadata": {},
   "source": [
    "# A better approach to Fibonacci"
   ]
  },
  {
   "cell_type": "code",
   "execution_count": 2,
   "id": "c6a35d68",
   "metadata": {},
   "outputs": [
    {
     "name": "stdout",
     "output_type": "stream",
     "text": [
      "Enter the number of terms :-\n",
      "10\n",
      "{1: 0, 2: 1, 3: 1, 4: 2, 5: 3, 6: 5, 7: 8, 8: 13, 9: 21, 10: 34}\n"
     ]
    }
   ],
   "source": [
    "memory = {}\n",
    "\n",
    "def Fibonacci(n):\n",
    "    global memory\n",
    "    if n in memory:\n",
    "        return memory[n]\n",
    "    if(n==1):\n",
    "        memory[1] = 0\n",
    "        return 0 \n",
    "    elif(n==2):\n",
    "        memory[2] = 1\n",
    "        return 1\n",
    "    else:\n",
    "        term = Fibonacci(n-1) + Fibonacci(n-2)\n",
    "        memory[n] = term\n",
    "        return term\n",
    "    \n",
    "print(\"Enter the number of terms :-\")\n",
    "n = int(input())\n",
    "m=1\n",
    "for i in range(1,n+1):\n",
    "    print(\" Term -\",m,Fibonacci(i))\n",
    "#     Fibonacci(i)\n",
    "    m=m+1\n",
    "# print(memory)"
   ]
  },
  {
   "cell_type": "code",
   "execution_count": null,
   "id": "560cee3c",
   "metadata": {},
   "outputs": [],
   "source": []
  }
 ],
 "metadata": {
  "kernelspec": {
   "display_name": "Python 3 (ipykernel)",
   "language": "python",
   "name": "python3"
  },
  "language_info": {
   "codemirror_mode": {
    "name": "ipython",
    "version": 3
   },
   "file_extension": ".py",
   "mimetype": "text/x-python",
   "name": "python",
   "nbconvert_exporter": "python",
   "pygments_lexer": "ipython3",
   "version": "3.11.0"
  }
 },
 "nbformat": 4,
 "nbformat_minor": 5
}
