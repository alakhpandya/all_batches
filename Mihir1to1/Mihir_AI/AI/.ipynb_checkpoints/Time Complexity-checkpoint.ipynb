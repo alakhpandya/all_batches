{
 "cells": [
  {
   "cell_type": "markdown",
   "id": "3acd2025",
   "metadata": {},
   "source": [
    "# Time Complexity\n",
    "\n",
    "Big O: Used to analyze how efficient our algorithm is as the size of the input tends to infinite. This means how our algorithm performs as the size of the input increases.\n",
    "\n",
    "Complexity          Name            \n",
    "O(1)\t\t\t\tconstant        Best\n",
    "O(log n)\t\t\tlogarithmic\n",
    "O(n)\t\t\t\tlinear\n",
    "O(n log n)\t\t\tlinearithmic\n",
    "O(n^2)\t\t\t\tquadratic\n",
    "O(n^3)\t\t\t\tcubic\n",
    "O(2^n)\t\t\t\texponential\n",
    "O(n!)\t\t\t\tfactorial       Worst\n",
    "\n",
    "constant: a step whose execution time is independent of the size of the input."
   ]
  },
  {
   "cell_type": "code",
   "execution_count": 1,
   "id": "3d81ece1",
   "metadata": {},
   "outputs": [
    {
     "name": "stdout",
     "output_type": "stream",
     "text": [
      "Hello World!\n",
      "[1, 2, 3, 4, 5]\n"
     ]
    }
   ],
   "source": [
    "def constant(n):\n",
    "    print(\"Hello World!\")              # O(1)\n",
    "    print(n)                           # O(1)\n",
    "    print(10000000 * 10000000 ^ 5)     # O(1)\n",
    "    # time complexity = O(1) + O(1) + O(1) = O(3) = O(1)\n",
    "    \n",
    "myArray = [1,2,3,4,5]\n",
    "constant(myArray)"
   ]
  },
  {
   "cell_type": "code",
   "execution_count": null,
   "id": "ffb85a52",
   "metadata": {},
   "outputs": [],
   "source": [
    "def linear(n):\n",
    "    print(\"Hello World!\")      # O(1)\n",
    "    for number in n: \n",
    "        print(number)          # O(n)\n",
    "        print(1000 * 1000)     # O(n)\n",
    "        \n",
    "#     total time complexity: O(1) + O(n) + O(n) = O(2n) = O(n)           We consider only the worst case complexity\n",
    "        \n",
    "myArray = [1,2,3,4,5]\n",
    "linear(myArray)"
   ]
  },
  {
   "cell_type": "code",
   "execution_count": 3,
   "id": "42c75fbd",
   "metadata": {},
   "outputs": [
    {
     "name": "stdout",
     "output_type": "stream",
     "text": [
      "Something\n",
      "1\n",
      "2\n",
      "3\n",
      "4\n",
      "5\n",
      "6\n",
      "7\n",
      "8\n",
      "9\n",
      "10\n",
      "11\n",
      "12\n",
      "13\n",
      "14\n",
      "15\n",
      "16\n",
      "17\n",
      "18\n",
      "19\n",
      "20\n",
      "21\n",
      "22\n",
      "23\n",
      "24\n",
      "25\n"
     ]
    }
   ],
   "source": [
    "def quadratic(n):\n",
    "    print(\"Something\")\n",
    "    sum = 0                 # O(1)\n",
    "    i = 1                   # O(1)\n",
    "    j = 1                   # O(1)\n",
    "    for number in n:\n",
    "        print(j)            # n = O(n)\n",
    "        j += 1              # n = O(n)\n",
    "        for number in n:\n",
    "            print(i)        # n * n = O(n^2)\n",
    "            i += 1          # n * n = O(n^2)\n",
    "            \n",
    "    for i in range(500):\n",
    "        sum = sum + i       # O(500)\n",
    "        \n",
    "    # Total time complexity = worst case time complexity = O(n^2)\n",
    "            \n",
    "myArray = [1,2,3,4,5]\n",
    "quadratic(myArray)"
   ]
  },
  {
   "cell_type": "code",
   "execution_count": 14,
   "id": "42ae08f6",
   "metadata": {},
   "outputs": [
    {
     "name": "stdout",
     "output_type": "stream",
     "text": [
      "1\n",
      "2\n",
      "3\n"
     ]
    }
   ],
   "source": [
    "def logarithmic(n):\n",
    "    i = 1\n",
    "    n //= 2\n",
    "    while n > 0:\n",
    "        print(i)\n",
    "        i += 1\n",
    "        n //= 2\n",
    "        \n",
    "logarithmic(8)"
   ]
  },
  {
   "cell_type": "code",
   "execution_count": 16,
   "id": "ab7c8222",
   "metadata": {},
   "outputs": [
    {
     "name": "stdout",
     "output_type": "stream",
     "text": [
      "i = 1\n",
      "\t\tj = 0\n",
      "\t\tj = 1\n",
      "\t\tj = 2\n",
      "\t\tj = 3\n",
      "\t\tj = 4\n",
      "\t\tj = 5\n",
      "\t\tj = 6\n",
      "\t\tj = 7\n",
      "\t\tj = 8\n",
      "\t\tj = 9\n",
      "\t\tj = 10\n",
      "\t\tj = 11\n",
      "\t\tj = 12\n",
      "\t\tj = 13\n",
      "\t\tj = 14\n",
      "\t\tj = 15\n",
      "i = 2\n",
      "\t\tj = 0\n",
      "\t\tj = 1\n",
      "\t\tj = 2\n",
      "\t\tj = 3\n",
      "\t\tj = 4\n",
      "\t\tj = 5\n",
      "\t\tj = 6\n",
      "\t\tj = 7\n",
      "\t\tj = 8\n",
      "\t\tj = 9\n",
      "\t\tj = 10\n",
      "\t\tj = 11\n",
      "\t\tj = 12\n",
      "\t\tj = 13\n",
      "\t\tj = 14\n",
      "\t\tj = 15\n",
      "i = 3\n",
      "\t\tj = 0\n",
      "\t\tj = 1\n",
      "\t\tj = 2\n",
      "\t\tj = 3\n",
      "\t\tj = 4\n",
      "\t\tj = 5\n",
      "\t\tj = 6\n",
      "\t\tj = 7\n",
      "\t\tj = 8\n",
      "\t\tj = 9\n",
      "\t\tj = 10\n",
      "\t\tj = 11\n",
      "\t\tj = 12\n",
      "\t\tj = 13\n",
      "\t\tj = 14\n",
      "\t\tj = 15\n",
      "i = 4\n",
      "\t\tj = 0\n",
      "\t\tj = 1\n",
      "\t\tj = 2\n",
      "\t\tj = 3\n",
      "\t\tj = 4\n",
      "\t\tj = 5\n",
      "\t\tj = 6\n",
      "\t\tj = 7\n",
      "\t\tj = 8\n",
      "\t\tj = 9\n",
      "\t\tj = 10\n",
      "\t\tj = 11\n",
      "\t\tj = 12\n",
      "\t\tj = 13\n",
      "\t\tj = 14\n",
      "\t\tj = 15\n"
     ]
    }
   ],
   "source": [
    "def linearithmic(n):\n",
    "    i = 1\n",
    "    m = n\n",
    "    n //= 2\n",
    "    while n > 0:\n",
    "        print(\"i =\", i)            # O(log n)\n",
    "        i += 1\n",
    "        n //= 2\n",
    "        for j in range(m):\n",
    "            print(\"\\t\\tj =\", j)    # n * O(log n)\n",
    "        \n",
    "linearithmic(16)"
   ]
  },
  {
   "cell_type": "code",
   "execution_count": 2,
   "id": "75fda590",
   "metadata": {},
   "outputs": [
    {
     "name": "stdout",
     "output_type": "stream",
     "text": [
      "Something\n",
      "27\n",
      "0\n",
      "\t0\n",
      "\t\t0\n",
      "\t\t1\n",
      "\t\t2\n",
      "\t1\n",
      "\t\t0\n",
      "\t\t1\n",
      "\t\t2\n",
      "\t2\n",
      "\t\t0\n",
      "\t\t1\n",
      "\t\t2\n",
      "1\n",
      "\t0\n",
      "\t\t0\n",
      "\t\t1\n",
      "\t\t2\n",
      "\t1\n",
      "\t\t0\n",
      "\t\t1\n",
      "\t\t2\n",
      "\t2\n",
      "\t\t0\n",
      "\t\t1\n",
      "\t\t2\n",
      "2\n",
      "\t0\n",
      "\t\t0\n",
      "\t\t1\n",
      "\t\t2\n",
      "\t1\n",
      "\t\t0\n",
      "\t\t1\n",
      "\t\t2\n",
      "\t2\n",
      "\t\t0\n",
      "\t\t1\n",
      "\t\t2\n"
     ]
    }
   ],
   "source": [
    "def cubic(n):\n",
    "    print(\"Something\")              # O(1) \n",
    "    print(n * n * n)                # O(1)\n",
    "    for i in range(n):\n",
    "        print(i)                    # O(n)\n",
    "        for j in range(n):\n",
    "            print(f\"\\t{j}\")         # O(n^2)\n",
    "            for k in range(n):\n",
    "                print(f\"\\t\\t{k}\")     # O(n^3)\n",
    "                \n",
    "cubic(3)"
   ]
  },
  {
   "cell_type": "code",
   "execution_count": 11,
   "id": "a51d12eb",
   "metadata": {},
   "outputs": [
    {
     "name": "stdout",
     "output_type": "stream",
     "text": [
      "1.0\n",
      "3.3499999999999996\n",
      "4.5249999999999995\n",
      "8.46125\n",
      "13.778125\n",
      "23.72009375\n",
      "39.90939062499999\n"
     ]
    }
   ],
   "source": [
    "def calls(n):\n",
    "    return ((1+5.7**0.5)/2)**n + ((1-5.7**0.5)/2)**n\n",
    "\n",
    "x = 7\n",
    "for i in range(1, x+1):\n",
    "    print(calls(i))"
   ]
  },
  {
   "cell_type": "code",
   "execution_count": 12,
   "id": "ba43405e",
   "metadata": {},
   "outputs": [
    {
     "name": "stdout",
     "output_type": "stream",
     "text": [
      "0\n",
      "1\n",
      "2\n",
      "3\n",
      "4\n",
      "5\n",
      "6\n",
      "7\n",
      "8\n",
      "9\n",
      "10\n",
      "11\n",
      "12\n",
      "13\n",
      "14\n",
      "15\n"
     ]
    }
   ],
   "source": [
    "def exponential(n):\n",
    "    for x in range(2**n):\n",
    "        print(x)\n",
    "        \n",
    "exponential(4)"
   ]
  },
  {
   "cell_type": "code",
   "execution_count": null,
   "id": "ec4baf37",
   "metadata": {},
   "outputs": [],
   "source": [
    "def factorial(n):\n",
    "    \n",
    "    if n == 0:\n",
    "        print(\"*\")\n",
    "        return \n",
    "    for i in range(n):\n",
    "        factorial(n-1)\n",
    "        \n",
    "factorial(4)"
   ]
  },
  {
   "cell_type": "markdown",
   "id": "3fe9c9ad",
   "metadata": {},
   "source": [
    "# Space Complexity"
   ]
  },
  {
   "cell_type": "code",
   "execution_count": null,
   "id": "c3b94768",
   "metadata": {},
   "outputs": [],
   "source": [
    "def countDown(n):\n",
    "    print(n)\n",
    "    if n == 0:\n",
    "        return\n",
    "    return countDown(n-1)\n",
    "\n",
    "# Space Complexity: O(n)\n",
    "\n",
    "countDown(5)"
   ]
  },
  {
   "cell_type": "code",
   "execution_count": 21,
   "id": "3054d0a4",
   "metadata": {},
   "outputs": [],
   "source": [
    "# Calculate the time complexity of the following functions:\n",
    "\n",
    "def twoLoops(n):\n",
    "    for i in range(n):\n",
    "        pass\n",
    "    for j in range(n):\n",
    "        pass\n",
    "    \n",
    "# Incorrect: O(n^2)\n",
    "# Correct: O(n)\n",
    "    \n",
    "\n",
    "def twoInputs(a, b):\n",
    "    for i in range(a):\n",
    "        pass          \n",
    "    for j in range(b):\n",
    "        pass         \n",
    "\n",
    "# Incorrect: O(n) or O(n^2) or O(2n)\n",
    "# Correct: O(a + b)\n",
    "    \n",
    "\n",
    "def twoInputs(a, b):\n",
    "    for i in range(a):\n",
    "        for j in range(b):\n",
    "            pass\n",
    "        \n",
    "# Incorrect: O(n^2) or O(a + b) or O(a^b)\n",
    "# Correct: O(a * b)"
   ]
  }
 ],
 "metadata": {
  "kernelspec": {
   "display_name": "Python 3 (ipykernel)",
   "language": "python",
   "name": "python3"
  },
  "language_info": {
   "codemirror_mode": {
    "name": "ipython",
    "version": 3
   },
   "file_extension": ".py",
   "mimetype": "text/x-python",
   "name": "python",
   "nbconvert_exporter": "python",
   "pygments_lexer": "ipython3",
   "version": "3.8.6"
  }
 },
 "nbformat": 4,
 "nbformat_minor": 5
}
