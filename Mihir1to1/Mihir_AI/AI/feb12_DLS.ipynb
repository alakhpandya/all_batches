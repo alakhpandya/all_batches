{
 "cells": [
  {
   "cell_type": "markdown",
   "id": "1a51e761",
   "metadata": {},
   "source": [
    "# Depth Limited Search\n",
    "\n",
    "# Iterative Deepening Depth First Search\n",
    "\n",
    "# Bidirectional Search\n",
    "\n",
    "# Uniform-cost Search"
   ]
  },
  {
   "cell_type": "code",
   "execution_count": null,
   "id": "8eb9184d",
   "metadata": {},
   "outputs": [],
   "source": [
    "graph = {\n",
    "    'a' : ['b1', 'b2'],\n",
    "    'b1': ['c1', 'c2'], \n",
    "    'b2': ['d0'],\n",
    "    'c1': ['d1', 'd2'],\n",
    "    'c2': ['d3', 'd4'],\n",
    "    'd0': [],\n",
    "    'd1': ['e1', 'e2'],\n",
    "    'd2': ['e3', 'e4'],\n",
    "    'd3': ['e5', 'e6'],\n",
    "    'd4': [],\n",
    "    'e1': [],\n",
    "    'e2': [],\n",
    "    'e3': [],\n",
    "    'e4': [],\n",
    "    'e5': [],\n",
    "    'e6': []\n",
    "}\n",
    "\n",
    "def dls(start, goal, path, maxDepth, level):\n",
    "    path.append(start)\n",
    "    if start == goal:\n",
    "        return path\n",
    "    if level == maxDepth:\n",
    "        return False\n",
    "    for child in graph[start]:\n",
    "        if dls(child, goal, path, maxDepth, level+1):\n",
    "            return path\n",
    "\n",
    "start = 'a'\n",
    "goal = input(\"Goal state: \")\n",
    "maxDepth = int(input(\"Max Depth: \"))\n",
    "path = []\n",
    "sol = dls(start, goal, path, maxDepth, 0)\n",
    "if sol:\n",
    "    print(f\"Path to the goal state: {path}\")\n",
    "else:\n",
    "    print(f\"No goal state found till depth {maxDepth}.\")"
   ]
  },
  {
   "cell_type": "code",
   "execution_count": null,
   "id": "1d1c3d0a",
   "metadata": {},
   "outputs": [],
   "source": []
  }
 ],
 "metadata": {
  "kernelspec": {
   "display_name": "Python 3",
   "language": "python",
   "name": "python3"
  },
  "language_info": {
   "codemirror_mode": {
    "name": "ipython",
    "version": 3
   },
   "file_extension": ".py",
   "mimetype": "text/x-python",
   "name": "python",
   "nbconvert_exporter": "python",
   "pygments_lexer": "ipython3",
   "version": "3.8.6"
  },
  "vscode": {
   "interpreter": {
    "hash": "570feb405e2e27c949193ac68f46852414290d515b0ba6e5d90d076ed2284471"
   }
  }
 },
 "nbformat": 4,
 "nbformat_minor": 5
}
