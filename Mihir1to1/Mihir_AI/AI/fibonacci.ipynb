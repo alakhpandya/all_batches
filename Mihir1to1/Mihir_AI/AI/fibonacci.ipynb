{
 "cells": [
  {
   "cell_type": "markdown",
   "id": "3e62f82a",
   "metadata": {},
   "source": [
    "# A better approach to Fibonacci"
   ]
  },
  {
   "cell_type": "code",
   "execution_count": 3,
   "id": "c6a35d68",
   "metadata": {},
   "outputs": [
    {
     "name": "stdout",
     "output_type": "stream",
     "text": [
      "Enter the number of terms :-\n",
      "50\n",
      " Term - 1 0\n",
      " Term - 2 1\n",
      " Term - 3 1\n",
      " Term - 4 2\n",
      " Term - 5 3\n",
      " Term - 6 5\n",
      " Term - 7 8\n",
      " Term - 8 13\n",
      " Term - 9 21\n",
      " Term - 10 34\n",
      " Term - 11 55\n",
      " Term - 12 89\n",
      " Term - 13 144\n",
      " Term - 14 233\n",
      " Term - 15 377\n",
      " Term - 16 610\n",
      " Term - 17 987\n",
      " Term - 18 1597\n",
      " Term - 19 2584\n",
      " Term - 20 4181\n",
      " Term - 21 6765\n",
      " Term - 22 10946\n",
      " Term - 23 17711\n",
      " Term - 24 28657\n",
      " Term - 25 46368\n",
      " Term - 26 75025\n",
      " Term - 27 121393\n",
      " Term - 28 196418\n",
      " Term - 29 317811\n",
      " Term - 30 514229\n",
      " Term - 31 832040\n",
      " Term - 32 1346269\n",
      " Term - 33 2178309\n",
      " Term - 34 3524578\n",
      " Term - 35 5702887\n",
      " Term - 36 9227465\n",
      " Term - 37 14930352\n",
      " Term - 38 24157817\n",
      " Term - 39 39088169\n",
      " Term - 40 63245986\n",
      " Term - 41 102334155\n",
      " Term - 42 165580141\n",
      " Term - 43 267914296\n",
      " Term - 44 433494437\n",
      " Term - 45 701408733\n",
      " Term - 46 1134903170\n",
      " Term - 47 1836311903\n",
      " Term - 48 2971215073\n",
      " Term - 49 4807526976\n",
      " Term - 50 7778742049\n"
     ]
    }
   ],
   "source": [
    "memory = {}\n",
    "\n",
    "def Fibonacci(n):\n",
    "    global memory\n",
    "    if n in memory:\n",
    "        return memory[n]\n",
    "    if(n==1):\n",
    "        memory[1] = 0\n",
    "        return 0 \n",
    "    elif(n==2):\n",
    "        memory[2] = 1\n",
    "        return 1\n",
    "    else:\n",
    "        term = Fibonacci(n-1) + Fibonacci(n-2)\n",
    "        memory[n] = term\n",
    "        return term\n",
    "    \n",
    "print(\"Enter the number of terms :-\")\n",
    "n = int(input())\n",
    "m=1\n",
    "for i in range(1,n+1):\n",
    "    print(\" Term -\",m,Fibonacci(i))\n",
    "#     Fibonacci(i)\n",
    "    m=m+1\n",
    "# print(memory)"
   ]
  },
  {
   "cell_type": "code",
   "execution_count": null,
   "id": "e65ba085",
   "metadata": {},
   "outputs": [],
   "source": []
  }
 ],
 "metadata": {
  "kernelspec": {
   "display_name": "Python 3 (ipykernel)",
   "language": "python",
   "name": "python3"
  },
  "language_info": {
   "codemirror_mode": {
    "name": "ipython",
    "version": 3
   },
   "file_extension": ".py",
   "mimetype": "text/x-python",
   "name": "python",
   "nbconvert_exporter": "python",
   "pygments_lexer": "ipython3",
   "version": "3.11.0"
  }
 },
 "nbformat": 4,
 "nbformat_minor": 5
}
