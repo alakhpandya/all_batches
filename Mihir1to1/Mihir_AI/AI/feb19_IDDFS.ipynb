{
 "cells": [
  {
   "cell_type": "code",
   "execution_count": null,
   "metadata": {},
   "outputs": [],
   "source": [
    "def bar(x, y):\n",
    "    if y == 0:\n",
    "        return 0\n",
    "    return (x + bar(x, y-1))\n",
    "\n",
    "def foo(x, y):\n",
    "    if y == 0:\n",
    "        return 1\n",
    "    return bar(x, foo(x, y-1))\n",
    "\n",
    "print(foo(3, 5))"
   ]
  },
  {
   "cell_type": "markdown",
   "metadata": {},
   "source": [
    "Options:\n",
    "A)  243\n",
    "B)  15\n",
    "C)  18\n",
    "D)  125"
   ]
  },
  {
   "cell_type": "code",
   "execution_count": 2,
   "metadata": {},
   "outputs": [
    {
     "name": "stdout",
     "output_type": "stream",
     "text": [
      "a\n",
      "a\n",
      "b1\n",
      "b2\n",
      "a\n",
      "b1\n",
      "c1\n",
      "c2\n",
      "b2\n",
      "d0\n",
      "a\n",
      "b1\n",
      "c1\n",
      "d1\n",
      "d2\n",
      "c2\n",
      "d3\n",
      "d4\n",
      "b2\n",
      "d0\n",
      "a\n",
      "b1\n",
      "c1\n",
      "d1\n",
      "e1\n",
      "e2\n",
      "d2\n",
      "e3\n"
     ]
    }
   ],
   "source": [
    "graph = {\n",
    "    'a' : ['b1', 'b2'],\n",
    "    'b1': ['c1', 'c2'], \n",
    "    'b2': ['d0'],\n",
    "    'c1': ['d1', 'd2'],\n",
    "    'c2': ['d3', 'd4'],\n",
    "    'd0': [],\n",
    "    'd1': ['e1', 'e2'],\n",
    "    'd2': ['e3', 'e4'],\n",
    "    'd3': ['e5', 'e6'],\n",
    "    'd4': [],\n",
    "    'e1': [],\n",
    "    'e2': [],\n",
    "    'e3': [],\n",
    "    'e4': [],\n",
    "    'e5': [],\n",
    "    'e6': []\n",
    "}\n",
    "\n",
    "def dls(current_node, goal, graph, maxDepth):\n",
    "    print(current_node)\n",
    "    if current_node == goal:\n",
    "        return True\n",
    "    if maxDepth <= 0:\n",
    "        return False\n",
    "    for child in graph[current_node]:\n",
    "        if dls(child, goal, graph, maxDepth-1):\n",
    "            return True\n",
    "    return False\n",
    "\n",
    "def iddfs(current_node, goal, graph, maxDepth):\n",
    "    for i in range(maxDepth+1):\n",
    "        if dls(current_node, goal, graph, i):\n",
    "            return True\n",
    "\n",
    "\n",
    "start = input(\"Start Node: \")\n",
    "goal = input(\"Goal Node: \")\n",
    "maxDepth = int(input(\"Max Depth: \"))\n",
    "\n",
    "if not iddfs(start, goal, graph, maxDepth):\n",
    "    print(\"Goal State not found in the given depth...\")"
   ]
  }
 ],
 "metadata": {
  "kernelspec": {
   "display_name": "Python 3 (ipykernel)",
   "language": "python",
   "name": "python3"
  },
  "language_info": {
   "codemirror_mode": {
    "name": "ipython",
    "version": 3
   },
   "file_extension": ".py",
   "mimetype": "text/x-python",
   "name": "python",
   "nbconvert_exporter": "python",
   "pygments_lexer": "ipython3",
   "version": "3.8.6"
  },
  "vscode": {
   "interpreter": {
    "hash": "570feb405e2e27c949193ac68f46852414290d515b0ba6e5d90d076ed2284471"
   }
  }
 },
 "nbformat": 4,
 "nbformat_minor": 2
}
