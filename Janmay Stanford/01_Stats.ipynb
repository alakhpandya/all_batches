{
  "cells": [
    {
      "cell_type": "code",
      "execution_count": 5,
      "metadata": {
        "id": "q4GrqxHKCbkx"
      },
      "outputs": [],
      "source": [
        "import numpy as np\n",
        "import pandas as pd\n",
        "import matplotlib.pyplot as plt\n",
        "import seaborn as sns"
      ]
    },
    {
      "cell_type": "code",
      "execution_count": 6,
      "metadata": {
        "colab": {
          "background_save": true
        },
        "id": "ILFZOu67Dsr8"
      },
      "outputs": [],
      "source": [
        "# !gdown 1H7T8gcy8H2bfwwYInRnIRuXQQPgU_hPe\n",
        "# !gdown 1caxgTJzq-5F-c7EMQWH1JAq_GNHs4F2n\n",
        "# !gdown 1Wh6_Ju2rWvsZysaVFvpigdgC80oQi5o2"
      ]
    },
    {
      "cell_type": "code",
      "execution_count": 7,
      "metadata": {
        "colab": {
          "background_save": true
        },
        "id": "ZwczF4NEEh8H"
      },
      "outputs": [
        {
          "data": {
            "text/html": [
              "<div>\n",
              "<style scoped>\n",
              "    .dataframe tbody tr th:only-of-type {\n",
              "        vertical-align: middle;\n",
              "    }\n",
              "\n",
              "    .dataframe tbody tr th {\n",
              "        vertical-align: top;\n",
              "    }\n",
              "\n",
              "    .dataframe thead th {\n",
              "        text-align: right;\n",
              "    }\n",
              "</style>\n",
              "<table border=\"1\" class=\"dataframe\">\n",
              "  <thead>\n",
              "    <tr style=\"text-align: right;\">\n",
              "      <th></th>\n",
              "      <th>Gender</th>\n",
              "      <th>Height</th>\n",
              "      <th>Weight</th>\n",
              "    </tr>\n",
              "  </thead>\n",
              "  <tbody>\n",
              "    <tr>\n",
              "      <th>0</th>\n",
              "      <td>Male</td>\n",
              "      <td>73.847017</td>\n",
              "      <td>241.893563</td>\n",
              "    </tr>\n",
              "    <tr>\n",
              "      <th>1</th>\n",
              "      <td>Male</td>\n",
              "      <td>68.781904</td>\n",
              "      <td>162.310473</td>\n",
              "    </tr>\n",
              "    <tr>\n",
              "      <th>2</th>\n",
              "      <td>Male</td>\n",
              "      <td>74.110105</td>\n",
              "      <td>212.740856</td>\n",
              "    </tr>\n",
              "    <tr>\n",
              "      <th>3</th>\n",
              "      <td>Male</td>\n",
              "      <td>71.730978</td>\n",
              "      <td>220.042470</td>\n",
              "    </tr>\n",
              "    <tr>\n",
              "      <th>4</th>\n",
              "      <td>Male</td>\n",
              "      <td>69.881796</td>\n",
              "      <td>206.349801</td>\n",
              "    </tr>\n",
              "    <tr>\n",
              "      <th>...</th>\n",
              "      <td>...</td>\n",
              "      <td>...</td>\n",
              "      <td>...</td>\n",
              "    </tr>\n",
              "    <tr>\n",
              "      <th>9995</th>\n",
              "      <td>Female</td>\n",
              "      <td>66.172652</td>\n",
              "      <td>136.777454</td>\n",
              "    </tr>\n",
              "    <tr>\n",
              "      <th>9996</th>\n",
              "      <td>Female</td>\n",
              "      <td>67.067155</td>\n",
              "      <td>170.867906</td>\n",
              "    </tr>\n",
              "    <tr>\n",
              "      <th>9997</th>\n",
              "      <td>Female</td>\n",
              "      <td>63.867992</td>\n",
              "      <td>128.475319</td>\n",
              "    </tr>\n",
              "    <tr>\n",
              "      <th>9998</th>\n",
              "      <td>Female</td>\n",
              "      <td>69.034243</td>\n",
              "      <td>163.852461</td>\n",
              "    </tr>\n",
              "    <tr>\n",
              "      <th>9999</th>\n",
              "      <td>Female</td>\n",
              "      <td>61.944246</td>\n",
              "      <td>113.649103</td>\n",
              "    </tr>\n",
              "  </tbody>\n",
              "</table>\n",
              "<p>10000 rows × 3 columns</p>\n",
              "</div>"
            ],
            "text/plain": [
              "      Gender     Height      Weight\n",
              "0       Male  73.847017  241.893563\n",
              "1       Male  68.781904  162.310473\n",
              "2       Male  74.110105  212.740856\n",
              "3       Male  71.730978  220.042470\n",
              "4       Male  69.881796  206.349801\n",
              "...      ...        ...         ...\n",
              "9995  Female  66.172652  136.777454\n",
              "9996  Female  67.067155  170.867906\n",
              "9997  Female  63.867992  128.475319\n",
              "9998  Female  69.034243  163.852461\n",
              "9999  Female  61.944246  113.649103\n",
              "\n",
              "[10000 rows x 3 columns]"
            ]
          },
          "execution_count": 7,
          "metadata": {},
          "output_type": "execute_result"
        }
      ],
      "source": [
        "# df_hw = pd.read_csv(\"weight-height.csv\")\n",
        "df_hw = pd.read_csv(\"C:\\\\Users\\\\Alakh Pandya\\\\Desktop\\\\Batches\\\\Datasets\\\\Probability & Statistics\\\\Descriptive Stats\\\\weight-height.csv\")\n",
        "df_hw"
      ]
    },
    {
      "cell_type": "code",
      "execution_count": 8,
      "metadata": {
        "colab": {
          "background_save": true
        },
        "id": "D1OEPjbsFPcj"
      },
      "outputs": [
        {
          "name": "stdout",
          "output_type": "stream",
          "text": [
            "<class 'pandas.core.frame.DataFrame'>\n",
            "RangeIndex: 10000 entries, 0 to 9999\n",
            "Data columns (total 3 columns):\n",
            " #   Column  Non-Null Count  Dtype  \n",
            "---  ------  --------------  -----  \n",
            " 0   Gender  10000 non-null  object \n",
            " 1   Height  10000 non-null  float64\n",
            " 2   Weight  10000 non-null  float64\n",
            "dtypes: float64(2), object(1)\n",
            "memory usage: 234.5+ KB\n"
          ]
        }
      ],
      "source": [
        "df_hw.info()"
      ]
    },
    {
      "cell_type": "code",
      "execution_count": 9,
      "metadata": {
        "colab": {
          "background_save": true
        },
        "id": "lPITwPtdFcnT"
      },
      "outputs": [
        {
          "data": {
            "text/plain": [
              "0         Male\n",
              "1         Male\n",
              "2         Male\n",
              "3         Male\n",
              "4         Male\n",
              "         ...  \n",
              "9995    Female\n",
              "9996    Female\n",
              "9997    Female\n",
              "9998    Female\n",
              "9999    Female\n",
              "Name: Gender, Length: 10000, dtype: object"
            ]
          },
          "execution_count": 9,
          "metadata": {},
          "output_type": "execute_result"
        }
      ],
      "source": [
        "df_hw.Gender\n",
        "df_hw[\"Gender\"]"
      ]
    },
    {
      "cell_type": "code",
      "execution_count": 10,
      "metadata": {
        "colab": {
          "background_save": true
        },
        "id": "vjQKGMjDGdtv"
      },
      "outputs": [
        {
          "data": {
            "text/plain": [
              "Gender\n",
              "Male      5000\n",
              "Female    5000\n",
              "Name: count, dtype: int64"
            ]
          },
          "execution_count": 10,
          "metadata": {},
          "output_type": "execute_result"
        }
      ],
      "source": [
        "df_hw[\"Gender\"].value_counts()"
      ]
    },
    {
      "cell_type": "code",
      "execution_count": 11,
      "metadata": {
        "colab": {
          "background_save": true
        },
        "id": "x5StEZRUGn5O"
      },
      "outputs": [
        {
          "data": {
            "text/html": [
              "<div>\n",
              "<style scoped>\n",
              "    .dataframe tbody tr th:only-of-type {\n",
              "        vertical-align: middle;\n",
              "    }\n",
              "\n",
              "    .dataframe tbody tr th {\n",
              "        vertical-align: top;\n",
              "    }\n",
              "\n",
              "    .dataframe thead th {\n",
              "        text-align: right;\n",
              "    }\n",
              "</style>\n",
              "<table border=\"1\" class=\"dataframe\">\n",
              "  <thead>\n",
              "    <tr style=\"text-align: right;\">\n",
              "      <th></th>\n",
              "      <th>Height</th>\n",
              "      <th>Weight</th>\n",
              "    </tr>\n",
              "  </thead>\n",
              "  <tbody>\n",
              "    <tr>\n",
              "      <th>count</th>\n",
              "      <td>10000.000000</td>\n",
              "      <td>10000.000000</td>\n",
              "    </tr>\n",
              "    <tr>\n",
              "      <th>mean</th>\n",
              "      <td>66.367560</td>\n",
              "      <td>161.440357</td>\n",
              "    </tr>\n",
              "    <tr>\n",
              "      <th>std</th>\n",
              "      <td>3.847528</td>\n",
              "      <td>32.108439</td>\n",
              "    </tr>\n",
              "    <tr>\n",
              "      <th>min</th>\n",
              "      <td>54.263133</td>\n",
              "      <td>64.700127</td>\n",
              "    </tr>\n",
              "    <tr>\n",
              "      <th>25%</th>\n",
              "      <td>63.505620</td>\n",
              "      <td>135.818051</td>\n",
              "    </tr>\n",
              "    <tr>\n",
              "      <th>50%</th>\n",
              "      <td>66.318070</td>\n",
              "      <td>161.212928</td>\n",
              "    </tr>\n",
              "    <tr>\n",
              "      <th>75%</th>\n",
              "      <td>69.174262</td>\n",
              "      <td>187.169525</td>\n",
              "    </tr>\n",
              "    <tr>\n",
              "      <th>max</th>\n",
              "      <td>78.998742</td>\n",
              "      <td>269.989699</td>\n",
              "    </tr>\n",
              "  </tbody>\n",
              "</table>\n",
              "</div>"
            ],
            "text/plain": [
              "             Height        Weight\n",
              "count  10000.000000  10000.000000\n",
              "mean      66.367560    161.440357\n",
              "std        3.847528     32.108439\n",
              "min       54.263133     64.700127\n",
              "25%       63.505620    135.818051\n",
              "50%       66.318070    161.212928\n",
              "75%       69.174262    187.169525\n",
              "max       78.998742    269.989699"
            ]
          },
          "execution_count": 11,
          "metadata": {},
          "output_type": "execute_result"
        }
      ],
      "source": [
        "df_hw.describe()"
      ]
    },
    {
      "cell_type": "code",
      "execution_count": 12,
      "metadata": {
        "colab": {
          "background_save": true
        },
        "id": "YSsy5mYTHF1G"
      },
      "outputs": [
        {
          "data": {
            "text/plain": [
              "84.5"
            ]
          },
          "execution_count": 12,
          "metadata": {},
          "output_type": "execute_result"
        }
      ],
      "source": [
        "marks = [21, 30, 31, 32, 40, 45, 48, 50, 50, 50, 50, 53, 56, 59, 60, 68, 73, 77, 77, 77, 82, 87, 88, 91, 93, 98, 100, 100]\n",
        "\n",
        "# Q1 = 25th percentile: The marks that are more than marks of 25% of students\n",
        "# Q2 = Median\n",
        "# Q3 = 75th percentile\n",
        "\n",
        "len(marks)\n",
        "q2 = (marks[13] + marks[14])/2\n",
        "\n",
        "marks2 = marks[:14]\n",
        "l = int(len(marks2)/2)\n",
        "q1 = (marks2[l-1] + marks2[l])/2\n",
        "q1\n",
        "\n",
        "marks3 = marks[14:]\n",
        "l = int(len(marks3)/2)\n",
        "q3 = (marks3[l-1] + marks3[l])/2\n",
        "q3"
      ]
    },
    {
      "cell_type": "code",
      "execution_count": 13,
      "metadata": {
        "colab": {
          "background_save": true
        },
        "id": "fi6HGIZJI6j7"
      },
      "outputs": [
        {
          "data": {
            "text/plain": [
              "array([ 21,  30,  31,  32,  40,  45,  48,  50,  50,  50,  50,  53,  56,\n",
              "        59,  60,  68,  73,  77,  77,  77,  82,  87,  88,  91,  93,  98,\n",
              "       100, 100])"
            ]
          },
          "execution_count": 13,
          "metadata": {},
          "output_type": "execute_result"
        }
      ],
      "source": [
        "# Percentile of an observation = number of observations before that number/total no. of observations\n",
        "\n",
        "marks = np.array(marks)\n",
        "marks"
      ]
    },
    {
      "cell_type": "code",
      "execution_count": 14,
      "metadata": {
        "id": "5hh06szlJP6t"
      },
      "outputs": [
        {
          "data": {
            "text/plain": [
              "0.03571428571428571"
            ]
          },
          "execution_count": 14,
          "metadata": {},
          "output_type": "execute_result"
        }
      ],
      "source": [
        "# marks * 4\n",
        "# temp = marks < 91\n",
        "\n",
        "# t1 = np.array([1,2,3,4,5,6])\n",
        "# t1[3]\n",
        "# t1[4]\n",
        "# t1[1:4]\n",
        "\n",
        "# t1[[True, False, False, True, False, True]]\n",
        "\n",
        "# marks[temp]\n",
        "# len(marks[marks < 91])/len(marks)\n",
        "\n",
        "x = int(input(\"Enter your marks: \"))\n",
        "pct = len(marks[marks < x])/len(marks)\n",
        "pct"
      ]
    },
    {
      "cell_type": "code",
      "execution_count": 15,
      "metadata": {
        "id": "uzCmcN1tLZwk"
      },
      "outputs": [
        {
          "data": {
            "text/plain": [
              "array([0.03571429, 0.07142857, 0.10714286, 0.14285714, 0.17857143,\n",
              "       0.21428571, 0.25      , 0.39285714, 0.39285714, 0.39285714,\n",
              "       0.39285714, 0.42857143, 0.46428571, 0.5       , 0.53571429,\n",
              "       0.57142857, 0.60714286, 0.71428571, 0.71428571, 0.71428571,\n",
              "       0.75      , 0.78571429, 0.82142857, 0.85714286, 0.89285714,\n",
              "       0.92857143, 1.        , 1.        ])"
            ]
          },
          "execution_count": 15,
          "metadata": {},
          "output_type": "execute_result"
        }
      ],
      "source": [
        "pct = []\n",
        "for m in marks:\n",
        "  pct.append(len(marks[marks <= m])/len(marks))\n",
        "pct = np.array(pct)\n",
        "pct"
      ]
    },
    {
      "cell_type": "code",
      "execution_count": 16,
      "metadata": {
        "id": "mYpJ7tpoMRJ4"
      },
      "outputs": [
        {
          "data": {
            "text/plain": [
              "array([ 0. ,  0.5,  1. ,  1.5,  2. ,  2.5,  3. ,  3.5,  4. ,  4.5,  5. ,\n",
              "        5.5,  6. ,  6.5,  7. ,  7.5,  8. ,  8.5,  9. ,  9.5, 10. , 10.5,\n",
              "       11. , 11.5, 12. , 12.5, 13. , 13.5, 14. , 14.5, 15. , 15.5, 16. ,\n",
              "       16.5, 17. , 17.5, 18. , 18.5, 19. , 19.5, 20. ])"
            ]
          },
          "execution_count": 16,
          "metadata": {},
          "output_type": "execute_result"
        }
      ],
      "source": [
        "np.arange(0, 10)\n",
        "np.arange(0, 20, 4)\n",
        "\n",
        "# Get me equi-spaced numbers starting from 0 till 20 with gap of 0.5\n",
        "np.arange(0, 20.5,0.5)"
      ]
    },
    {
      "cell_type": "code",
      "execution_count": 17,
      "metadata": {
        "id": "AyyQoA69NAyf"
      },
      "outputs": [
        {
          "data": {
            "text/plain": [
              "array([ 0.        ,  0.52631579,  1.05263158,  1.57894737,  2.10526316,\n",
              "        2.63157895,  3.15789474,  3.68421053,  4.21052632,  4.73684211,\n",
              "        5.26315789,  5.78947368,  6.31578947,  6.84210526,  7.36842105,\n",
              "        7.89473684,  8.42105263,  8.94736842,  9.47368421, 10.        ])"
            ]
          },
          "execution_count": 17,
          "metadata": {},
          "output_type": "execute_result"
        }
      ],
      "source": [
        "# Get me 20 equi-spaced numbers between 0 to 10 (including both)\n",
        "t2 = np.arange(0,10.1,0.5)\n",
        "t2\n",
        "len(t2)\n",
        "\n",
        "t3 = np.linspace(0, 10, 20)\n",
        "len(t3)\n",
        "t3"
      ]
    },
    {
      "cell_type": "code",
      "execution_count": 18,
      "metadata": {
        "id": "mVs6Dx1DPFkG"
      },
      "outputs": [
        {
          "data": {
            "text/plain": [
              "0       73.847017\n",
              "1       68.781904\n",
              "2       74.110105\n",
              "3       71.730978\n",
              "4       69.881796\n",
              "          ...    \n",
              "9995    66.172652\n",
              "9996    67.067155\n",
              "9997    63.867992\n",
              "9998    69.034243\n",
              "9999    61.944246\n",
              "Name: Height, Length: 10000, dtype: float64"
            ]
          },
          "execution_count": 18,
          "metadata": {},
          "output_type": "execute_result"
        }
      ],
      "source": [
        "height_data = df_hw[\"Height\"]\n",
        "height_data"
      ]
    },
    {
      "cell_type": "code",
      "execution_count": 19,
      "metadata": {
        "id": "649_5JgRPgVo"
      },
      "outputs": [],
      "source": [
        "x_vals = np.linspace(54, 80, 100)\n",
        "y_vals = []\n",
        "for n in x_vals:\n",
        "  y_vals.append(len(height_data[height_data <= n])/len(height_data))\n",
        "y_vals = np.array(y_vals)"
      ]
    },
    {
      "cell_type": "code",
      "execution_count": 20,
      "metadata": {
        "id": "4neLmqZtQDBd"
      },
      "outputs": [
        {
          "data": {
            "text/plain": [
              "[<matplotlib.lines.Line2D at 0x1e199668410>]"
            ]
          },
          "execution_count": 20,
          "metadata": {},
          "output_type": "execute_result"
        },
        {
          "data": {
            "image/png": "[encoded data removed]",
            "text/plain": [
              "<Figure size 640x480 with 1 Axes>"
            ]
          },
          "metadata": {},
          "output_type": "display_data"
        }
      ],
      "source": [
        "plt.plot(x_vals, y_vals)"
      ]
    },
    {
      "cell_type": "markdown",
      "metadata": {
        "id": "X65D0pkz3aHs"
      },
      "source": [
        "# Cricket Analysis\n",
        "\n",
        "* Who is more reliable player? Sehwag or Dravid?\n",
        "* Who can make most damage if came in full form?"
      ]
    },
    {
      "cell_type": "code",
      "execution_count": 23,
      "metadata": {
        "id": "yx5YRePjUL53"
      },
      "outputs": [],
      "source": [
        "dravid = pd.read_csv(\"C:\\\\Users\\\\Alakh Pandya\\\\Desktop\\\\Batches\\\\Datasets\\\\Probability & Statistics\\\\Descriptive Stats\\\\dravid.csv\")\n",
        "sehwag = pd.read_csv(\"C:\\\\Users\\\\Alakh Pandya\\\\Desktop\\\\Batches\\\\Datasets\\\\Probability & Statistics\\\\Descriptive Stats\\\\sehwag.csv\")"
      ]
    },
    {
      "cell_type": "code",
      "execution_count": 28,
      "metadata": {},
      "outputs": [
        {
          "data": {
            "text/plain": [
              "34"
            ]
          },
          "execution_count": 28,
          "metadata": {},
          "output_type": "execute_result"
        }
      ],
      "source": [
        "round(dravid[\"Runs\"].mean())"
      ]
    },
    {
      "cell_type": "code",
      "execution_count": 27,
      "metadata": {},
      "outputs": [
        {
          "data": {
            "text/plain": [
              "34"
            ]
          },
          "execution_count": 27,
          "metadata": {},
          "output_type": "execute_result"
        }
      ],
      "source": [
        "round(sehwag[\"Runs\"].mean())"
      ]
    },
    {
      "cell_type": "code",
      "execution_count": 31,
      "metadata": {},
      "outputs": [
        {
          "data": {
            "text/plain": [
              "91"
            ]
          },
          "execution_count": 31,
          "metadata": {},
          "output_type": "execute_result"
        }
      ],
      "source": [
        "dravid[\"Runs\"].nunique()"
      ]
    },
    {
      "cell_type": "code",
      "execution_count": 32,
      "metadata": {},
      "outputs": [
        {
          "data": {
            "text/plain": [
              "94"
            ]
          },
          "execution_count": 32,
          "metadata": {},
          "output_type": "execute_result"
        }
      ],
      "source": [
        "sehwag[\"Runs\"].nunique()"
      ]
    },
    {
      "cell_type": "code",
      "execution_count": 29,
      "metadata": {},
      "outputs": [
        {
          "data": {
            "text/plain": [
              "count    318.000000\n",
              "mean      34.242138\n",
              "std       29.681822\n",
              "min        0.000000\n",
              "25%       10.000000\n",
              "50%       26.000000\n",
              "75%       54.000000\n",
              "max      153.000000\n",
              "Name: Runs, dtype: float64"
            ]
          },
          "execution_count": 29,
          "metadata": {},
          "output_type": "execute_result"
        }
      ],
      "source": [
        "dravid[\"Runs\"].describe()"
      ]
    },
    {
      "cell_type": "code",
      "execution_count": 30,
      "metadata": {},
      "outputs": [
        {
          "data": {
            "text/plain": [
              "count    245.000000\n",
              "mean      33.767347\n",
              "std       34.809419\n",
              "min        0.000000\n",
              "25%        8.000000\n",
              "50%       23.000000\n",
              "75%       46.000000\n",
              "max      219.000000\n",
              "Name: Runs, dtype: float64"
            ]
          },
          "execution_count": 30,
          "metadata": {},
          "output_type": "execute_result"
        }
      ],
      "source": [
        "sehwag[\"Runs\"].describe()"
      ]
    },
    {
      "cell_type": "code",
      "execution_count": 36,
      "metadata": {},
      "outputs": [
        {
          "name": "stdout",
          "output_type": "stream",
          "text": [
            "mean = 30.0\n",
            "standard deviation = 14.142135623730951\n"
          ]
        }
      ],
      "source": [
        "arr1 = np.array([10, 20, 30, 40, 50])\n",
        "print(\"mean =\", arr1.mean())\n",
        "print(\"standard deviation =\", arr1.std())"
      ]
    },
    {
      "cell_type": "code",
      "execution_count": 35,
      "metadata": {},
      "outputs": [
        {
          "name": "stdout",
          "output_type": "stream",
          "text": [
            "mean = 30.0\n",
            "standard deviation = 1.4142135623730951\n"
          ]
        }
      ],
      "source": [
        "arr2 = np.array([28, 29, 30, 31, 32])\n",
        "print(\"mean =\", arr2.mean())\n",
        "print(\"standard deviation =\", arr2.std())"
      ]
    },
    {
      "cell_type": "code",
      "execution_count": 38,
      "metadata": {},
      "outputs": [
        {
          "data": {
            "text/plain": [
              "<Axes: >"
            ]
          },
          "execution_count": 38,
          "metadata": {},
          "output_type": "execute_result"
        },
        {
          "data": {
            "image/png": "[encoded data removed]",
            "text/plain": [
              "<Figure size 640x480 with 1 Axes>"
            ]
          },
          "metadata": {},
          "output_type": "display_data"
        }
      ],
      "source": [
        "sns.boxplot(data = dravid[\"Runs\"], orient=\"h\")"
      ]
    },
    {
      "cell_type": "code",
      "execution_count": 49,
      "metadata": {},
      "outputs": [
        {
          "name": "stdout",
          "output_type": "stream",
          "text": [
            "q1 = 10.0\n",
            "q3 = 54.0\n",
            "IQR =  44.0\n",
            "Expected minimum = -56.0\n",
            "Expected maximum = 120.0\n"
          ]
        }
      ],
      "source": [
        "dr_q1 = np.percentile(dravid[\"Runs\"], q=25)\n",
        "dr_q3 = np.percentile(dravid[\"Runs\"], q=75)\n",
        "dr_iqr = dr_q3 - dr_q1\n",
        "dr_exp_min = dr_q1 - (1.5*dr_iqr)\n",
        "dr_exp_max = dr_q3 + (1.5*dr_iqr)\n",
        "print(\"q1 =\", dr_q1)\n",
        "print(\"q3 =\", dr_q3)\n",
        "print(\"IQR = \", dr_iqr)\n",
        "print(\"Expected minimum =\", dr_exp_min)\n",
        "print(\"Expected maximum =\", dr_exp_max)"
      ]
    },
    {
      "cell_type": "code",
      "execution_count": 50,
      "metadata": {},
      "outputs": [
        {
          "name": "stdout",
          "output_type": "stream",
          "text": [
            "q1 = 8.0\n",
            "q3 = 46.0\n",
            "IQR =  38.0\n",
            "Expected minimum = -49.0\n",
            "Expected maximum = 103.0\n"
          ]
        }
      ],
      "source": [
        "sh_q1 = np.percentile(sehwag[\"Runs\"], q=25)\n",
        "sh_q3 = np.percentile(sehwag[\"Runs\"], q=75)\n",
        "sh_iqr = sh_q3 - sh_q1\n",
        "sh_exp_min = sh_q1 - (1.5*sh_iqr)\n",
        "sh_exp_max = sh_q3 + (1.5*sh_iqr)\n",
        "print(\"q1 =\", sh_q1)\n",
        "print(\"q3 =\", sh_q3)\n",
        "print(\"IQR = \", sh_iqr)\n",
        "print(\"Expected minimum =\", sh_exp_min)\n",
        "print(\"Expected maximum =\", sh_exp_max)"
      ]
    },
    {
      "cell_type": "code",
      "execution_count": 48,
      "metadata": {},
      "outputs": [
        {
          "data": {
            "text/plain": [
              "<Axes: >"
            ]
          },
          "execution_count": 48,
          "metadata": {},
          "output_type": "execute_result"
        },
        {
          "data": {
            "image/png": "[encoded data removed]",
            "text/plain": [
              "<Figure size 640x480 with 1 Axes>"
            ]
          },
          "metadata": {},
          "output_type": "display_data"
        }
      ],
      "source": [
        "sns.boxplot(data=sehwag[\"Runs\"], orient=\"h\")"
      ]
    },
    {
      "cell_type": "code",
      "execution_count": 59,
      "metadata": {},
      "outputs": [
        {
          "data": {
            "text/plain": [
              "5.71"
            ]
          },
          "execution_count": 59,
          "metadata": {},
          "output_type": "execute_result"
        }
      ],
      "source": [
        "sh_crazy = len(sehwag[sehwag[\"Runs\"] > sh_exp_max])\n",
        "sh_total = len(sehwag)\n",
        "sh_crazy_pct = round((sh_crazy/sh_total)*100, 2)\n",
        "sh_crazy_pct"
      ]
    },
    {
      "cell_type": "code",
      "execution_count": 60,
      "metadata": {},
      "outputs": [
        {
          "data": {
            "text/plain": [
              "0.94"
            ]
          },
          "execution_count": 60,
          "metadata": {},
          "output_type": "execute_result"
        }
      ],
      "source": [
        "dr_crazy = len(dravid[dravid[\"Runs\"] > dr_exp_max])\n",
        "dr_total = len(dravid)\n",
        "dr_crazy_pct = round((dr_crazy/dr_total)*100, 2)\n",
        "dr_crazy_pct"
      ]
    }
  ],
  "metadata": {
    "colab": {
      "provenance": []
    },
    "kernelspec": {
      "display_name": "Python 3",
      "name": "python3"
    },
    "language_info": {
      "codemirror_mode": {
        "name": "ipython",
        "version": 3
      },
      "file_extension": ".py",
      "mimetype": "text/x-python",
      "name": "python",
      "nbconvert_exporter": "python",
      "pygments_lexer": "ipython3",
      "version": "3.11.2"
    }
  },
  "nbformat": 4,
  "nbformat_minor": 0
}
